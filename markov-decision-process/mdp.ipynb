{
 "cells": [
  {
   "cell_type": "code",
   "execution_count": 2,
   "metadata": {},
   "outputs": [],
   "source": [
    "'''\n",
    "    An MDP example for a Gambler's problem\n",
    "\n",
    "    S0: initial fortune\n",
    "    N: The maximum possible fortune\n",
    "    P: probability of winning a bet\n",
    "    Reward only when fortune is N\n",
    "    a: the total bets we can take, a <= min{s, N - s}\n",
    "    As = {0, 1, ...., min(s, N - s)} \n",
    "\n",
    "    Aim: calculate expected reward for any initial fortune\n",
    "\n",
    "'''\n",
    "N = input('Number of states?')\n",
    "\n",
    "if not N.isdigit:\n",
    "    exit\n",
    "N = int(N)\n",
    "\n",
    "S = [*range(0, N + 1)]\n",
    "A = [*range(0, N+1)]\n",
    "p = 0.5\n",
    "\n",
    "            "
   ]
  },
  {
   "cell_type": "code",
   "execution_count": 3,
   "metadata": {},
   "outputs": [],
   "source": [
    "def P(s_next, s, a):\n",
    "    #p: win, 1 - p = lose, 0 otherwise\n",
    "    if s + a == s_next and a <= min(s, N - s) and 0 < s < N and a >= 1:\n",
    "        return p\n",
    "    elif s - a == s_next and a <= min(s, N - s) and 0 < s < N and a >= 1:\n",
    "        return 1 - p\n",
    "    else:\n",
    "        return 0"
   ]
  },
  {
   "cell_type": "code",
   "execution_count": 4,
   "metadata": {},
   "outputs": [],
   "source": [
    "def R(s, a):\n",
    "    if s == N: #win\n",
    "        return 1\n",
    "    else:\n",
    "        return 0"
   ]
  },
  {
   "cell_type": "code",
   "execution_count": 6,
   "metadata": {},
   "outputs": [],
   "source": [
    "def value_iterations(S, A, P, R):\n",
    "    '''\n",
    "    :param list S: set of states\n",
    "    :param list A: set of actions\n",
    "    :param function P: transition function\n",
    "    :param function R: reward function\n",
    "    '''\n",
    "\n",
    "    #setting all initial values or utilities to 0\n",
    "    V = {s: 0 for s in S}\n",
    "    optimal_policy =  {s: 0 for s in S}\n",
    "    #while convergence hasn't been found\n",
    "    while True:\n",
    "        oldV = V.copy()\n",
    "\n",
    "        #update value function\n",
    "        Q = {}\n",
    "        for  s in S: #for every state\n",
    "            for a in A: #for every action in this state\n",
    "                #update with bellman, usually starts to find non-zero\n",
    "                #values once we hit the actual reward state\n",
    "                Q[a] = R(s, a) + sum(P(s_next, s, a) * oldV[s_next]\n",
    "                for s_next in S)\n",
    "\n",
    "            V[s] = max(Q.values())\n",
    "            optimal_policy[s] = max(Q, key=Q.get)\n",
    "        #convergence found\n",
    "        if all(oldV[s] == V[s] for s in S):\n",
    "            break\n",
    "    return V, optimal_policy"
   ]
  },
  {
   "cell_type": "code",
   "execution_count": 8,
   "metadata": {},
   "outputs": [
    {
     "data": {
      "text/plain": [
       "{0: 0.0,\n",
       " 1: 0.1,\n",
       " 2: 0.2,\n",
       " 3: 0.30000000000000004,\n",
       " 4: 0.4,\n",
       " 5: 0.5,\n",
       " 6: 0.6000000000000001,\n",
       " 7: 0.7000000000000001,\n",
       " 8: 0.8,\n",
       " 9: 0.9,\n",
       " 10: 1.0}"
      ]
     },
     "execution_count": 8,
     "metadata": {},
     "output_type": "execute_result"
    }
   ],
   "source": [
    "V, optimal_policy = value_iterations(S, A, P, R)\n",
    "V"
   ]
  },
  {
   "cell_type": "code",
   "execution_count": 9,
   "metadata": {},
   "outputs": [
    {
     "data": {
      "text/plain": [
       "{0: 0, 1: 1, 2: 1, 3: 1, 4: 1, 5: 1, 6: 1, 7: 1, 8: 1, 9: 1, 10: 0}"
      ]
     },
     "execution_count": 9,
     "metadata": {},
     "output_type": "execute_result"
    }
   ],
   "source": [
    "optimal_policy"
   ]
  }
 ],
 "metadata": {
  "interpreter": {
   "hash": "2c66a0279390479bbd51d02cf86500b6f7e499d5dcfc1afc8ad54316fedc6f6b"
  },
  "kernelspec": {
   "display_name": "Python 3.10.1 64-bit",
   "language": "python",
   "name": "python3"
  },
  "language_info": {
   "codemirror_mode": {
    "name": "ipython",
    "version": 3
   },
   "file_extension": ".py",
   "mimetype": "text/x-python",
   "name": "python",
   "nbconvert_exporter": "python",
   "pygments_lexer": "ipython3",
   "version": "3.10.1"
  },
  "orig_nbformat": 4
 },
 "nbformat": 4,
 "nbformat_minor": 2
}
